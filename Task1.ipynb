{
 "cells": [
  {
   "cell_type": "markdown",
   "id": "7e83b07a-9c7b-45f7-9357-4f9011db5e63",
   "metadata": {},
   "source": [
    "# Sales Data Analysis"
   ]
  },
  {
   "cell_type": "markdown",
   "id": "528a4a09-704b-40b3-b62b-a99d2f3259f5",
   "metadata": {},
   "source": [
    "## Importing necessary LIbraries"
   ]
  },
  {
   "cell_type": "code",
   "execution_count": 63,
   "id": "eea3ce00-d155-4466-a4a5-9c314139612b",
   "metadata": {},
   "outputs": [],
   "source": [
    "import pandas as pd\n",
    "import matplotlib.pyplot as plt\n",
    "import seaborn as sns"
   ]
  },
  {
   "cell_type": "markdown",
   "id": "7a72304b-6851-4877-934c-524e8bf32730",
   "metadata": {},
   "source": [
    "## Loading the Data"
   ]
  },
  {
   "cell_type": "code",
   "execution_count": 87,
   "id": "81bed4d1-237c-4a7c-92ac-fb8a3fa85492",
   "metadata": {},
   "outputs": [
    {
     "data": {
      "text/html": [
       "<div>\n",
       "<style scoped>\n",
       "    .dataframe tbody tr th:only-of-type {\n",
       "        vertical-align: middle;\n",
       "    }\n",
       "\n",
       "    .dataframe tbody tr th {\n",
       "        vertical-align: top;\n",
       "    }\n",
       "\n",
       "    .dataframe thead th {\n",
       "        text-align: right;\n",
       "    }\n",
       "</style>\n",
       "<table border=\"1\" class=\"dataframe\">\n",
       "  <thead>\n",
       "    <tr style=\"text-align: right;\">\n",
       "      <th></th>\n",
       "      <th>Transaction ID</th>\n",
       "      <th>Date</th>\n",
       "      <th>Customer ID</th>\n",
       "      <th>Gender</th>\n",
       "      <th>Age</th>\n",
       "      <th>Product Category</th>\n",
       "      <th>Quantity</th>\n",
       "      <th>Price per Unit</th>\n",
       "      <th>Total Amount</th>\n",
       "    </tr>\n",
       "  </thead>\n",
       "  <tbody>\n",
       "    <tr>\n",
       "      <th>0</th>\n",
       "      <td>1</td>\n",
       "      <td>2023-11-24</td>\n",
       "      <td>CUST001</td>\n",
       "      <td>Male</td>\n",
       "      <td>34</td>\n",
       "      <td>Beauty</td>\n",
       "      <td>3</td>\n",
       "      <td>50</td>\n",
       "      <td>150</td>\n",
       "    </tr>\n",
       "    <tr>\n",
       "      <th>1</th>\n",
       "      <td>2</td>\n",
       "      <td>2023-02-27</td>\n",
       "      <td>CUST002</td>\n",
       "      <td>Female</td>\n",
       "      <td>26</td>\n",
       "      <td>Clothing</td>\n",
       "      <td>2</td>\n",
       "      <td>500</td>\n",
       "      <td>1000</td>\n",
       "    </tr>\n",
       "    <tr>\n",
       "      <th>2</th>\n",
       "      <td>3</td>\n",
       "      <td>2023-01-13</td>\n",
       "      <td>CUST003</td>\n",
       "      <td>Male</td>\n",
       "      <td>50</td>\n",
       "      <td>Electronics</td>\n",
       "      <td>1</td>\n",
       "      <td>30</td>\n",
       "      <td>30</td>\n",
       "    </tr>\n",
       "    <tr>\n",
       "      <th>3</th>\n",
       "      <td>4</td>\n",
       "      <td>2023-05-21</td>\n",
       "      <td>CUST004</td>\n",
       "      <td>Male</td>\n",
       "      <td>37</td>\n",
       "      <td>Clothing</td>\n",
       "      <td>1</td>\n",
       "      <td>500</td>\n",
       "      <td>500</td>\n",
       "    </tr>\n",
       "    <tr>\n",
       "      <th>4</th>\n",
       "      <td>5</td>\n",
       "      <td>2023-05-06</td>\n",
       "      <td>CUST005</td>\n",
       "      <td>Male</td>\n",
       "      <td>30</td>\n",
       "      <td>Beauty</td>\n",
       "      <td>2</td>\n",
       "      <td>50</td>\n",
       "      <td>100</td>\n",
       "    </tr>\n",
       "  </tbody>\n",
       "</table>\n",
       "</div>"
      ],
      "text/plain": [
       "   Transaction ID        Date Customer ID  Gender  Age Product Category  \\\n",
       "0               1  2023-11-24     CUST001    Male   34           Beauty   \n",
       "1               2  2023-02-27     CUST002  Female   26         Clothing   \n",
       "2               3  2023-01-13     CUST003    Male   50      Electronics   \n",
       "3               4  2023-05-21     CUST004    Male   37         Clothing   \n",
       "4               5  2023-05-06     CUST005    Male   30           Beauty   \n",
       "\n",
       "   Quantity  Price per Unit  Total Amount  \n",
       "0         3              50           150  \n",
       "1         2             500          1000  \n",
       "2         1              30            30  \n",
       "3         1             500           500  \n",
       "4         2              50           100  "
      ]
     },
     "execution_count": 87,
     "metadata": {},
     "output_type": "execute_result"
    }
   ],
   "source": [
    "Data = pd.read_csv(\"Sales.csv\")\n",
    "Data.head()"
   ]
  },
  {
   "cell_type": "markdown",
   "id": "b9de1937-fbad-4463-876e-a6db0a1510fa",
   "metadata": {},
   "source": [
    "## Showing the available columns"
   ]
  },
  {
   "cell_type": "code",
   "execution_count": 88,
   "id": "fdca3b9a-105a-4388-afc6-f2049e25625d",
   "metadata": {},
   "outputs": [
    {
     "data": {
      "text/plain": [
       "Index(['Transaction ID', 'Date', 'Customer ID', 'Gender', 'Age',\n",
       "       'Product Category', 'Quantity', 'Price per Unit', 'Total Amount'],\n",
       "      dtype='object')"
      ]
     },
     "execution_count": 88,
     "metadata": {},
     "output_type": "execute_result"
    }
   ],
   "source": [
    "Data.columns"
   ]
  },
  {
   "cell_type": "markdown",
   "id": "80662ab0-ff28-4bf1-99d4-98ae2384e94c",
   "metadata": {},
   "source": [
    "## Getting last five Tuples"
   ]
  },
  {
   "cell_type": "code",
   "execution_count": 89,
   "id": "d4ae1d75-7e15-42a2-ad8b-8a4abda4df17",
   "metadata": {},
   "outputs": [
    {
     "data": {
      "text/html": [
       "<div>\n",
       "<style scoped>\n",
       "    .dataframe tbody tr th:only-of-type {\n",
       "        vertical-align: middle;\n",
       "    }\n",
       "\n",
       "    .dataframe tbody tr th {\n",
       "        vertical-align: top;\n",
       "    }\n",
       "\n",
       "    .dataframe thead th {\n",
       "        text-align: right;\n",
       "    }\n",
       "</style>\n",
       "<table border=\"1\" class=\"dataframe\">\n",
       "  <thead>\n",
       "    <tr style=\"text-align: right;\">\n",
       "      <th></th>\n",
       "      <th>Transaction ID</th>\n",
       "      <th>Date</th>\n",
       "      <th>Customer ID</th>\n",
       "      <th>Gender</th>\n",
       "      <th>Age</th>\n",
       "      <th>Product Category</th>\n",
       "      <th>Quantity</th>\n",
       "      <th>Price per Unit</th>\n",
       "      <th>Total Amount</th>\n",
       "    </tr>\n",
       "  </thead>\n",
       "  <tbody>\n",
       "    <tr>\n",
       "      <th>995</th>\n",
       "      <td>996</td>\n",
       "      <td>2023-05-16</td>\n",
       "      <td>CUST996</td>\n",
       "      <td>Male</td>\n",
       "      <td>62</td>\n",
       "      <td>Clothing</td>\n",
       "      <td>1</td>\n",
       "      <td>50</td>\n",
       "      <td>50</td>\n",
       "    </tr>\n",
       "    <tr>\n",
       "      <th>996</th>\n",
       "      <td>997</td>\n",
       "      <td>2023-11-17</td>\n",
       "      <td>CUST997</td>\n",
       "      <td>Male</td>\n",
       "      <td>52</td>\n",
       "      <td>Beauty</td>\n",
       "      <td>3</td>\n",
       "      <td>30</td>\n",
       "      <td>90</td>\n",
       "    </tr>\n",
       "    <tr>\n",
       "      <th>997</th>\n",
       "      <td>998</td>\n",
       "      <td>2023-10-29</td>\n",
       "      <td>CUST998</td>\n",
       "      <td>Female</td>\n",
       "      <td>23</td>\n",
       "      <td>Beauty</td>\n",
       "      <td>4</td>\n",
       "      <td>25</td>\n",
       "      <td>100</td>\n",
       "    </tr>\n",
       "    <tr>\n",
       "      <th>998</th>\n",
       "      <td>999</td>\n",
       "      <td>2023-12-05</td>\n",
       "      <td>CUST999</td>\n",
       "      <td>Female</td>\n",
       "      <td>36</td>\n",
       "      <td>Electronics</td>\n",
       "      <td>3</td>\n",
       "      <td>50</td>\n",
       "      <td>150</td>\n",
       "    </tr>\n",
       "    <tr>\n",
       "      <th>999</th>\n",
       "      <td>1000</td>\n",
       "      <td>2023-04-12</td>\n",
       "      <td>CUST1000</td>\n",
       "      <td>Male</td>\n",
       "      <td>47</td>\n",
       "      <td>Electronics</td>\n",
       "      <td>4</td>\n",
       "      <td>30</td>\n",
       "      <td>120</td>\n",
       "    </tr>\n",
       "  </tbody>\n",
       "</table>\n",
       "</div>"
      ],
      "text/plain": [
       "     Transaction ID        Date Customer ID  Gender  Age Product Category  \\\n",
       "995             996  2023-05-16     CUST996    Male   62         Clothing   \n",
       "996             997  2023-11-17     CUST997    Male   52           Beauty   \n",
       "997             998  2023-10-29     CUST998  Female   23           Beauty   \n",
       "998             999  2023-12-05     CUST999  Female   36      Electronics   \n",
       "999            1000  2023-04-12    CUST1000    Male   47      Electronics   \n",
       "\n",
       "     Quantity  Price per Unit  Total Amount  \n",
       "995         1              50            50  \n",
       "996         3              30            90  \n",
       "997         4              25           100  \n",
       "998         3              50           150  \n",
       "999         4              30           120  "
      ]
     },
     "execution_count": 89,
     "metadata": {},
     "output_type": "execute_result"
    }
   ],
   "source": [
    "Data.tail()"
   ]
  },
  {
   "cell_type": "markdown",
   "id": "42dea153-967c-400e-901b-513689cf3bf6",
   "metadata": {},
   "source": [
    "## Checking the Datatypes"
   ]
  },
  {
   "cell_type": "code",
   "execution_count": 90,
   "id": "18c2010d-0eed-43a0-908d-108e9223cfc6",
   "metadata": {},
   "outputs": [
    {
     "name": "stdout",
     "output_type": "stream",
     "text": [
      "<class 'pandas.core.frame.DataFrame'>\n",
      "RangeIndex: 1000 entries, 0 to 999\n",
      "Data columns (total 9 columns):\n",
      " #   Column            Non-Null Count  Dtype \n",
      "---  ------            --------------  ----- \n",
      " 0   Transaction ID    1000 non-null   int64 \n",
      " 1   Date              1000 non-null   object\n",
      " 2   Customer ID       1000 non-null   object\n",
      " 3   Gender            1000 non-null   object\n",
      " 4   Age               1000 non-null   int64 \n",
      " 5   Product Category  1000 non-null   object\n",
      " 6   Quantity          1000 non-null   int64 \n",
      " 7   Price per Unit    1000 non-null   int64 \n",
      " 8   Total Amount      1000 non-null   int64 \n",
      "dtypes: int64(5), object(4)\n",
      "memory usage: 70.4+ KB\n"
     ]
    }
   ],
   "source": [
    "Data.info()"
   ]
  },
  {
   "cell_type": "markdown",
   "id": "563b40e7-a077-4444-b73a-2ada5d48bda6",
   "metadata": {},
   "source": [
    "## Checking the Dimension of the Data"
   ]
  },
  {
   "cell_type": "code",
   "execution_count": 91,
   "id": "8bc7e0ba-784e-4c75-843b-710ecf0f6381",
   "metadata": {},
   "outputs": [
    {
     "data": {
      "text/plain": [
       "(1000, 9)"
      ]
     },
     "execution_count": 91,
     "metadata": {},
     "output_type": "execute_result"
    }
   ],
   "source": [
    "Data.shape"
   ]
  },
  {
   "cell_type": "markdown",
   "id": "837d7d12-bfb0-4b4f-91bc-ba4e42093711",
   "metadata": {},
   "source": [
    "## Checking for Null Values"
   ]
  },
  {
   "cell_type": "code",
   "execution_count": 92,
   "id": "1ebaf9b4-5c9a-4bd0-b4a6-1cdbc8e89943",
   "metadata": {},
   "outputs": [
    {
     "data": {
      "text/plain": [
       "Transaction ID      0\n",
       "Date                0\n",
       "Customer ID         0\n",
       "Gender              0\n",
       "Age                 0\n",
       "Product Category    0\n",
       "Quantity            0\n",
       "Price per Unit      0\n",
       "Total Amount        0\n",
       "dtype: int64"
      ]
     },
     "execution_count": 92,
     "metadata": {},
     "output_type": "execute_result"
    }
   ],
   "source": [
    "Data.isnull().sum()"
   ]
  },
  {
   "cell_type": "markdown",
   "id": "3375eac9-d01e-455e-8eb6-aa2a3d271d13",
   "metadata": {},
   "source": [
    "## Statistical Description of the data"
   ]
  },
  {
   "cell_type": "code",
   "execution_count": 93,
   "id": "e9d37eb3-da31-4c09-ab41-8a23b7ffda04",
   "metadata": {},
   "outputs": [
    {
     "data": {
      "text/html": [
       "<div>\n",
       "<style scoped>\n",
       "    .dataframe tbody tr th:only-of-type {\n",
       "        vertical-align: middle;\n",
       "    }\n",
       "\n",
       "    .dataframe tbody tr th {\n",
       "        vertical-align: top;\n",
       "    }\n",
       "\n",
       "    .dataframe thead th {\n",
       "        text-align: right;\n",
       "    }\n",
       "</style>\n",
       "<table border=\"1\" class=\"dataframe\">\n",
       "  <thead>\n",
       "    <tr style=\"text-align: right;\">\n",
       "      <th></th>\n",
       "      <th>Transaction ID</th>\n",
       "      <th>Age</th>\n",
       "      <th>Quantity</th>\n",
       "      <th>Price per Unit</th>\n",
       "      <th>Total Amount</th>\n",
       "    </tr>\n",
       "  </thead>\n",
       "  <tbody>\n",
       "    <tr>\n",
       "      <th>count</th>\n",
       "      <td>1000.000000</td>\n",
       "      <td>1000.00000</td>\n",
       "      <td>1000.000000</td>\n",
       "      <td>1000.000000</td>\n",
       "      <td>1000.000000</td>\n",
       "    </tr>\n",
       "    <tr>\n",
       "      <th>mean</th>\n",
       "      <td>500.500000</td>\n",
       "      <td>41.39200</td>\n",
       "      <td>2.514000</td>\n",
       "      <td>179.890000</td>\n",
       "      <td>456.000000</td>\n",
       "    </tr>\n",
       "    <tr>\n",
       "      <th>std</th>\n",
       "      <td>288.819436</td>\n",
       "      <td>13.68143</td>\n",
       "      <td>1.132734</td>\n",
       "      <td>189.681356</td>\n",
       "      <td>559.997632</td>\n",
       "    </tr>\n",
       "    <tr>\n",
       "      <th>min</th>\n",
       "      <td>1.000000</td>\n",
       "      <td>18.00000</td>\n",
       "      <td>1.000000</td>\n",
       "      <td>25.000000</td>\n",
       "      <td>25.000000</td>\n",
       "    </tr>\n",
       "    <tr>\n",
       "      <th>25%</th>\n",
       "      <td>250.750000</td>\n",
       "      <td>29.00000</td>\n",
       "      <td>1.000000</td>\n",
       "      <td>30.000000</td>\n",
       "      <td>60.000000</td>\n",
       "    </tr>\n",
       "    <tr>\n",
       "      <th>50%</th>\n",
       "      <td>500.500000</td>\n",
       "      <td>42.00000</td>\n",
       "      <td>3.000000</td>\n",
       "      <td>50.000000</td>\n",
       "      <td>135.000000</td>\n",
       "    </tr>\n",
       "    <tr>\n",
       "      <th>75%</th>\n",
       "      <td>750.250000</td>\n",
       "      <td>53.00000</td>\n",
       "      <td>4.000000</td>\n",
       "      <td>300.000000</td>\n",
       "      <td>900.000000</td>\n",
       "    </tr>\n",
       "    <tr>\n",
       "      <th>max</th>\n",
       "      <td>1000.000000</td>\n",
       "      <td>64.00000</td>\n",
       "      <td>4.000000</td>\n",
       "      <td>500.000000</td>\n",
       "      <td>2000.000000</td>\n",
       "    </tr>\n",
       "  </tbody>\n",
       "</table>\n",
       "</div>"
      ],
      "text/plain": [
       "       Transaction ID         Age     Quantity  Price per Unit  Total Amount\n",
       "count     1000.000000  1000.00000  1000.000000     1000.000000   1000.000000\n",
       "mean       500.500000    41.39200     2.514000      179.890000    456.000000\n",
       "std        288.819436    13.68143     1.132734      189.681356    559.997632\n",
       "min          1.000000    18.00000     1.000000       25.000000     25.000000\n",
       "25%        250.750000    29.00000     1.000000       30.000000     60.000000\n",
       "50%        500.500000    42.00000     3.000000       50.000000    135.000000\n",
       "75%        750.250000    53.00000     4.000000      300.000000    900.000000\n",
       "max       1000.000000    64.00000     4.000000      500.000000   2000.000000"
      ]
     },
     "execution_count": 93,
     "metadata": {},
     "output_type": "execute_result"
    }
   ],
   "source": [
    "Data.describe()"
   ]
  },
  {
   "cell_type": "markdown",
   "id": "1aec04d7-ade7-480e-9572-cad8e18e6a4d",
   "metadata": {},
   "source": [
    "## Checking for Duplicate values"
   ]
  },
  {
   "cell_type": "code",
   "execution_count": 94,
   "id": "24a9b5c2-0506-403e-b53b-f8088c254f48",
   "metadata": {},
   "outputs": [
    {
     "data": {
      "text/plain": [
       "np.int64(0)"
      ]
     },
     "execution_count": 94,
     "metadata": {},
     "output_type": "execute_result"
    }
   ],
   "source": [
    "Data.duplicated().sum()"
   ]
  },
  {
   "cell_type": "markdown",
   "id": "b5e84d41-43eb-41f9-ac7f-52e79ee6fb92",
   "metadata": {},
   "source": [
    "## Changing the datatype of Date From Object"
   ]
  },
  {
   "cell_type": "code",
   "execution_count": 95,
   "id": "75812d4d-a1a3-455f-bcda-4df8fa43d781",
   "metadata": {},
   "outputs": [],
   "source": [
    " Data['Date'] = pd.to_datetime(Data['Date'])"
   ]
  },
  {
   "cell_type": "code",
   "execution_count": 96,
   "id": "79bc556b-3caa-4b1f-a4c6-347992c2be76",
   "metadata": {},
   "outputs": [
    {
     "data": {
      "text/plain": [
       "dtype('<M8[ns]')"
      ]
     },
     "execution_count": 96,
     "metadata": {},
     "output_type": "execute_result"
    }
   ],
   "source": [
    "Data[\"Date\"].dtype"
   ]
  },
  {
   "cell_type": "markdown",
   "id": "55fe48f9-5f95-447d-b4d1-96757d8cb49a",
   "metadata": {},
   "source": [
    "## Sorting the data based on Date"
   ]
  },
  {
   "cell_type": "code",
   "execution_count": 97,
   "id": "d5f1681e-b49a-41cf-9bae-5c2c2eabe6fb",
   "metadata": {},
   "outputs": [
    {
     "data": {
      "text/html": [
       "<div>\n",
       "<style scoped>\n",
       "    .dataframe tbody tr th:only-of-type {\n",
       "        vertical-align: middle;\n",
       "    }\n",
       "\n",
       "    .dataframe tbody tr th {\n",
       "        vertical-align: top;\n",
       "    }\n",
       "\n",
       "    .dataframe thead th {\n",
       "        text-align: right;\n",
       "    }\n",
       "</style>\n",
       "<table border=\"1\" class=\"dataframe\">\n",
       "  <thead>\n",
       "    <tr style=\"text-align: right;\">\n",
       "      <th></th>\n",
       "      <th>Transaction ID</th>\n",
       "      <th>Customer ID</th>\n",
       "      <th>Gender</th>\n",
       "      <th>Age</th>\n",
       "      <th>Product Category</th>\n",
       "      <th>Quantity</th>\n",
       "      <th>Price per Unit</th>\n",
       "      <th>Total Amount</th>\n",
       "    </tr>\n",
       "    <tr>\n",
       "      <th>Date</th>\n",
       "      <th></th>\n",
       "      <th></th>\n",
       "      <th></th>\n",
       "      <th></th>\n",
       "      <th></th>\n",
       "      <th></th>\n",
       "      <th></th>\n",
       "      <th></th>\n",
       "    </tr>\n",
       "  </thead>\n",
       "  <tbody>\n",
       "    <tr>\n",
       "      <th>2023-01-01</th>\n",
       "      <td>522</td>\n",
       "      <td>CUST522</td>\n",
       "      <td>Male</td>\n",
       "      <td>46</td>\n",
       "      <td>Beauty</td>\n",
       "      <td>3</td>\n",
       "      <td>500</td>\n",
       "      <td>1500</td>\n",
       "    </tr>\n",
       "    <tr>\n",
       "      <th>2023-01-01</th>\n",
       "      <td>180</td>\n",
       "      <td>CUST180</td>\n",
       "      <td>Male</td>\n",
       "      <td>41</td>\n",
       "      <td>Clothing</td>\n",
       "      <td>3</td>\n",
       "      <td>300</td>\n",
       "      <td>900</td>\n",
       "    </tr>\n",
       "    <tr>\n",
       "      <th>2023-01-01</th>\n",
       "      <td>559</td>\n",
       "      <td>CUST559</td>\n",
       "      <td>Female</td>\n",
       "      <td>40</td>\n",
       "      <td>Clothing</td>\n",
       "      <td>4</td>\n",
       "      <td>300</td>\n",
       "      <td>1200</td>\n",
       "    </tr>\n",
       "    <tr>\n",
       "      <th>2023-01-02</th>\n",
       "      <td>303</td>\n",
       "      <td>CUST303</td>\n",
       "      <td>Male</td>\n",
       "      <td>19</td>\n",
       "      <td>Electronics</td>\n",
       "      <td>3</td>\n",
       "      <td>30</td>\n",
       "      <td>90</td>\n",
       "    </tr>\n",
       "    <tr>\n",
       "      <th>2023-01-02</th>\n",
       "      <td>979</td>\n",
       "      <td>CUST979</td>\n",
       "      <td>Female</td>\n",
       "      <td>19</td>\n",
       "      <td>Beauty</td>\n",
       "      <td>1</td>\n",
       "      <td>25</td>\n",
       "      <td>25</td>\n",
       "    </tr>\n",
       "  </tbody>\n",
       "</table>\n",
       "</div>"
      ],
      "text/plain": [
       "            Transaction ID Customer ID  Gender  Age Product Category  \\\n",
       "Date                                                                   \n",
       "2023-01-01             522     CUST522    Male   46           Beauty   \n",
       "2023-01-01             180     CUST180    Male   41         Clothing   \n",
       "2023-01-01             559     CUST559  Female   40         Clothing   \n",
       "2023-01-02             303     CUST303    Male   19      Electronics   \n",
       "2023-01-02             979     CUST979  Female   19           Beauty   \n",
       "\n",
       "            Quantity  Price per Unit  Total Amount  \n",
       "Date                                                \n",
       "2023-01-01         3             500          1500  \n",
       "2023-01-01         3             300           900  \n",
       "2023-01-01         4             300          1200  \n",
       "2023-01-02         3              30            90  \n",
       "2023-01-02         1              25            25  "
      ]
     },
     "execution_count": 97,
     "metadata": {},
     "output_type": "execute_result"
    }
   ],
   "source": [
    "Data = Data.sort_values(by='Date', ascending=True)\n",
    "\n",
    "Data.set_index('Date', inplace=True)\n",
    "\n",
    "Data.head()\n"
   ]
  },
  {
   "cell_type": "markdown",
   "id": "e9f5dc0c-4dd3-4f5b-9195-cb2ad06ced00",
   "metadata": {},
   "source": [
    "## Changing Transaction ID values based on the Date"
   ]
  },
  {
   "cell_type": "code",
   "execution_count": 98,
   "id": "d3a1bb2d-f330-4155-ad81-f37888feb767",
   "metadata": {},
   "outputs": [
    {
     "data": {
      "text/html": [
       "<div>\n",
       "<style scoped>\n",
       "    .dataframe tbody tr th:only-of-type {\n",
       "        vertical-align: middle;\n",
       "    }\n",
       "\n",
       "    .dataframe tbody tr th {\n",
       "        vertical-align: top;\n",
       "    }\n",
       "\n",
       "    .dataframe thead th {\n",
       "        text-align: right;\n",
       "    }\n",
       "</style>\n",
       "<table border=\"1\" class=\"dataframe\">\n",
       "  <thead>\n",
       "    <tr style=\"text-align: right;\">\n",
       "      <th></th>\n",
       "      <th>Date</th>\n",
       "      <th>Transaction ID</th>\n",
       "      <th>Customer ID</th>\n",
       "      <th>Gender</th>\n",
       "      <th>Age</th>\n",
       "      <th>Product Category</th>\n",
       "      <th>Quantity</th>\n",
       "      <th>Price per Unit</th>\n",
       "      <th>Total Amount</th>\n",
       "    </tr>\n",
       "  </thead>\n",
       "  <tbody>\n",
       "    <tr>\n",
       "      <th>0</th>\n",
       "      <td>2023-01-01</td>\n",
       "      <td>1</td>\n",
       "      <td>CUST522</td>\n",
       "      <td>Male</td>\n",
       "      <td>46</td>\n",
       "      <td>Beauty</td>\n",
       "      <td>3</td>\n",
       "      <td>500</td>\n",
       "      <td>1500</td>\n",
       "    </tr>\n",
       "    <tr>\n",
       "      <th>1</th>\n",
       "      <td>2023-01-01</td>\n",
       "      <td>2</td>\n",
       "      <td>CUST180</td>\n",
       "      <td>Male</td>\n",
       "      <td>41</td>\n",
       "      <td>Clothing</td>\n",
       "      <td>3</td>\n",
       "      <td>300</td>\n",
       "      <td>900</td>\n",
       "    </tr>\n",
       "    <tr>\n",
       "      <th>2</th>\n",
       "      <td>2023-01-01</td>\n",
       "      <td>3</td>\n",
       "      <td>CUST559</td>\n",
       "      <td>Female</td>\n",
       "      <td>40</td>\n",
       "      <td>Clothing</td>\n",
       "      <td>4</td>\n",
       "      <td>300</td>\n",
       "      <td>1200</td>\n",
       "    </tr>\n",
       "    <tr>\n",
       "      <th>3</th>\n",
       "      <td>2023-01-02</td>\n",
       "      <td>4</td>\n",
       "      <td>CUST303</td>\n",
       "      <td>Male</td>\n",
       "      <td>19</td>\n",
       "      <td>Electronics</td>\n",
       "      <td>3</td>\n",
       "      <td>30</td>\n",
       "      <td>90</td>\n",
       "    </tr>\n",
       "    <tr>\n",
       "      <th>4</th>\n",
       "      <td>2023-01-02</td>\n",
       "      <td>5</td>\n",
       "      <td>CUST979</td>\n",
       "      <td>Female</td>\n",
       "      <td>19</td>\n",
       "      <td>Beauty</td>\n",
       "      <td>1</td>\n",
       "      <td>25</td>\n",
       "      <td>25</td>\n",
       "    </tr>\n",
       "  </tbody>\n",
       "</table>\n",
       "</div>"
      ],
      "text/plain": [
       "        Date  Transaction ID Customer ID  Gender  Age Product Category  \\\n",
       "0 2023-01-01               1     CUST522    Male   46           Beauty   \n",
       "1 2023-01-01               2     CUST180    Male   41         Clothing   \n",
       "2 2023-01-01               3     CUST559  Female   40         Clothing   \n",
       "3 2023-01-02               4     CUST303    Male   19      Electronics   \n",
       "4 2023-01-02               5     CUST979  Female   19           Beauty   \n",
       "\n",
       "   Quantity  Price per Unit  Total Amount  \n",
       "0         3             500          1500  \n",
       "1         3             300           900  \n",
       "2         4             300          1200  \n",
       "3         3              30            90  \n",
       "4         1              25            25  "
      ]
     },
     "execution_count": 98,
     "metadata": {},
     "output_type": "execute_result"
    }
   ],
   "source": [
    "Data.reset_index(inplace=True)\n",
    "\n",
    "Data['Transaction ID'] = range(1, len(Data) + 1)\n",
    "\n",
    "Data.head()\n"
   ]
  },
  {
   "cell_type": "code",
   "execution_count": 99,
   "id": "c30e0ec4-d396-4ab8-8847-4de62bf99bd6",
   "metadata": {},
   "outputs": [
    {
     "data": {
      "text/html": [
       "<div>\n",
       "<style scoped>\n",
       "    .dataframe tbody tr th:only-of-type {\n",
       "        vertical-align: middle;\n",
       "    }\n",
       "\n",
       "    .dataframe tbody tr th {\n",
       "        vertical-align: top;\n",
       "    }\n",
       "\n",
       "    .dataframe thead th {\n",
       "        text-align: right;\n",
       "    }\n",
       "</style>\n",
       "<table border=\"1\" class=\"dataframe\">\n",
       "  <thead>\n",
       "    <tr style=\"text-align: right;\">\n",
       "      <th></th>\n",
       "      <th>Date</th>\n",
       "      <th>Customer ID</th>\n",
       "      <th>Gender</th>\n",
       "      <th>Age</th>\n",
       "      <th>Product Category</th>\n",
       "      <th>Quantity</th>\n",
       "      <th>Price per Unit</th>\n",
       "      <th>Total Amount</th>\n",
       "    </tr>\n",
       "    <tr>\n",
       "      <th>Transaction ID</th>\n",
       "      <th></th>\n",
       "      <th></th>\n",
       "      <th></th>\n",
       "      <th></th>\n",
       "      <th></th>\n",
       "      <th></th>\n",
       "      <th></th>\n",
       "      <th></th>\n",
       "    </tr>\n",
       "  </thead>\n",
       "  <tbody>\n",
       "    <tr>\n",
       "      <th>1</th>\n",
       "      <td>2023-01-01</td>\n",
       "      <td>CUST522</td>\n",
       "      <td>Male</td>\n",
       "      <td>46</td>\n",
       "      <td>Beauty</td>\n",
       "      <td>3</td>\n",
       "      <td>500</td>\n",
       "      <td>1500</td>\n",
       "    </tr>\n",
       "    <tr>\n",
       "      <th>2</th>\n",
       "      <td>2023-01-01</td>\n",
       "      <td>CUST180</td>\n",
       "      <td>Male</td>\n",
       "      <td>41</td>\n",
       "      <td>Clothing</td>\n",
       "      <td>3</td>\n",
       "      <td>300</td>\n",
       "      <td>900</td>\n",
       "    </tr>\n",
       "    <tr>\n",
       "      <th>3</th>\n",
       "      <td>2023-01-01</td>\n",
       "      <td>CUST559</td>\n",
       "      <td>Female</td>\n",
       "      <td>40</td>\n",
       "      <td>Clothing</td>\n",
       "      <td>4</td>\n",
       "      <td>300</td>\n",
       "      <td>1200</td>\n",
       "    </tr>\n",
       "    <tr>\n",
       "      <th>4</th>\n",
       "      <td>2023-01-02</td>\n",
       "      <td>CUST303</td>\n",
       "      <td>Male</td>\n",
       "      <td>19</td>\n",
       "      <td>Electronics</td>\n",
       "      <td>3</td>\n",
       "      <td>30</td>\n",
       "      <td>90</td>\n",
       "    </tr>\n",
       "    <tr>\n",
       "      <th>5</th>\n",
       "      <td>2023-01-02</td>\n",
       "      <td>CUST979</td>\n",
       "      <td>Female</td>\n",
       "      <td>19</td>\n",
       "      <td>Beauty</td>\n",
       "      <td>1</td>\n",
       "      <td>25</td>\n",
       "      <td>25</td>\n",
       "    </tr>\n",
       "    <tr>\n",
       "      <th>...</th>\n",
       "      <td>...</td>\n",
       "      <td>...</td>\n",
       "      <td>...</td>\n",
       "      <td>...</td>\n",
       "      <td>...</td>\n",
       "      <td>...</td>\n",
       "      <td>...</td>\n",
       "      <td>...</td>\n",
       "    </tr>\n",
       "    <tr>\n",
       "      <th>996</th>\n",
       "      <td>2023-12-29</td>\n",
       "      <td>CUST233</td>\n",
       "      <td>Female</td>\n",
       "      <td>51</td>\n",
       "      <td>Beauty</td>\n",
       "      <td>2</td>\n",
       "      <td>300</td>\n",
       "      <td>600</td>\n",
       "    </tr>\n",
       "    <tr>\n",
       "      <th>997</th>\n",
       "      <td>2023-12-29</td>\n",
       "      <td>CUST805</td>\n",
       "      <td>Female</td>\n",
       "      <td>30</td>\n",
       "      <td>Beauty</td>\n",
       "      <td>3</td>\n",
       "      <td>500</td>\n",
       "      <td>1500</td>\n",
       "    </tr>\n",
       "    <tr>\n",
       "      <th>998</th>\n",
       "      <td>2023-12-31</td>\n",
       "      <td>CUST857</td>\n",
       "      <td>Male</td>\n",
       "      <td>60</td>\n",
       "      <td>Electronics</td>\n",
       "      <td>2</td>\n",
       "      <td>25</td>\n",
       "      <td>50</td>\n",
       "    </tr>\n",
       "    <tr>\n",
       "      <th>999</th>\n",
       "      <td>2024-01-01</td>\n",
       "      <td>CUST211</td>\n",
       "      <td>Male</td>\n",
       "      <td>42</td>\n",
       "      <td>Beauty</td>\n",
       "      <td>3</td>\n",
       "      <td>500</td>\n",
       "      <td>1500</td>\n",
       "    </tr>\n",
       "    <tr>\n",
       "      <th>1000</th>\n",
       "      <td>2024-01-01</td>\n",
       "      <td>CUST650</td>\n",
       "      <td>Male</td>\n",
       "      <td>55</td>\n",
       "      <td>Electronics</td>\n",
       "      <td>1</td>\n",
       "      <td>30</td>\n",
       "      <td>30</td>\n",
       "    </tr>\n",
       "  </tbody>\n",
       "</table>\n",
       "<p>1000 rows × 8 columns</p>\n",
       "</div>"
      ],
      "text/plain": [
       "                     Date Customer ID  Gender  Age Product Category  Quantity  \\\n",
       "Transaction ID                                                                  \n",
       "1              2023-01-01     CUST522    Male   46           Beauty         3   \n",
       "2              2023-01-01     CUST180    Male   41         Clothing         3   \n",
       "3              2023-01-01     CUST559  Female   40         Clothing         4   \n",
       "4              2023-01-02     CUST303    Male   19      Electronics         3   \n",
       "5              2023-01-02     CUST979  Female   19           Beauty         1   \n",
       "...                   ...         ...     ...  ...              ...       ...   \n",
       "996            2023-12-29     CUST233  Female   51           Beauty         2   \n",
       "997            2023-12-29     CUST805  Female   30           Beauty         3   \n",
       "998            2023-12-31     CUST857    Male   60      Electronics         2   \n",
       "999            2024-01-01     CUST211    Male   42           Beauty         3   \n",
       "1000           2024-01-01     CUST650    Male   55      Electronics         1   \n",
       "\n",
       "                Price per Unit  Total Amount  \n",
       "Transaction ID                                \n",
       "1                          500          1500  \n",
       "2                          300           900  \n",
       "3                          300          1200  \n",
       "4                           30            90  \n",
       "5                           25            25  \n",
       "...                        ...           ...  \n",
       "996                        300           600  \n",
       "997                        500          1500  \n",
       "998                         25            50  \n",
       "999                        500          1500  \n",
       "1000                        30            30  \n",
       "\n",
       "[1000 rows x 8 columns]"
      ]
     },
     "execution_count": 99,
     "metadata": {},
     "output_type": "execute_result"
    }
   ],
   "source": [
    "Data.set_index('Transaction ID', inplace=True)\n",
    "Data"
   ]
  },
  {
   "cell_type": "code",
   "execution_count": 100,
   "id": "e623cd27-3655-43cf-a22b-977f59358ef0",
   "metadata": {},
   "outputs": [
    {
     "data": {
      "text/html": [
       "<div>\n",
       "<style scoped>\n",
       "    .dataframe tbody tr th:only-of-type {\n",
       "        vertical-align: middle;\n",
       "    }\n",
       "\n",
       "    .dataframe tbody tr th {\n",
       "        vertical-align: top;\n",
       "    }\n",
       "\n",
       "    .dataframe thead th {\n",
       "        text-align: right;\n",
       "    }\n",
       "</style>\n",
       "<table border=\"1\" class=\"dataframe\">\n",
       "  <thead>\n",
       "    <tr style=\"text-align: right;\">\n",
       "      <th></th>\n",
       "      <th>Date</th>\n",
       "      <th>Customer ID</th>\n",
       "      <th>Gender</th>\n",
       "      <th>Age</th>\n",
       "      <th>Product Category</th>\n",
       "      <th>Quantity</th>\n",
       "      <th>Price per Unit</th>\n",
       "      <th>Total Amount</th>\n",
       "    </tr>\n",
       "    <tr>\n",
       "      <th>Transaction ID</th>\n",
       "      <th></th>\n",
       "      <th></th>\n",
       "      <th></th>\n",
       "      <th></th>\n",
       "      <th></th>\n",
       "      <th></th>\n",
       "      <th></th>\n",
       "      <th></th>\n",
       "    </tr>\n",
       "  </thead>\n",
       "  <tbody>\n",
       "    <tr>\n",
       "      <th>1</th>\n",
       "      <td>2023-01-01</td>\n",
       "      <td>CUST522</td>\n",
       "      <td>Male</td>\n",
       "      <td>46</td>\n",
       "      <td>Beauty</td>\n",
       "      <td>3</td>\n",
       "      <td>500</td>\n",
       "      <td>1500</td>\n",
       "    </tr>\n",
       "    <tr>\n",
       "      <th>2</th>\n",
       "      <td>2023-01-01</td>\n",
       "      <td>CUST180</td>\n",
       "      <td>Male</td>\n",
       "      <td>41</td>\n",
       "      <td>Clothing</td>\n",
       "      <td>3</td>\n",
       "      <td>300</td>\n",
       "      <td>900</td>\n",
       "    </tr>\n",
       "    <tr>\n",
       "      <th>3</th>\n",
       "      <td>2023-01-01</td>\n",
       "      <td>CUST559</td>\n",
       "      <td>Female</td>\n",
       "      <td>40</td>\n",
       "      <td>Clothing</td>\n",
       "      <td>4</td>\n",
       "      <td>300</td>\n",
       "      <td>1200</td>\n",
       "    </tr>\n",
       "    <tr>\n",
       "      <th>4</th>\n",
       "      <td>2023-01-02</td>\n",
       "      <td>CUST303</td>\n",
       "      <td>Male</td>\n",
       "      <td>19</td>\n",
       "      <td>Electronics</td>\n",
       "      <td>3</td>\n",
       "      <td>30</td>\n",
       "      <td>90</td>\n",
       "    </tr>\n",
       "    <tr>\n",
       "      <th>5</th>\n",
       "      <td>2023-01-02</td>\n",
       "      <td>CUST979</td>\n",
       "      <td>Female</td>\n",
       "      <td>19</td>\n",
       "      <td>Beauty</td>\n",
       "      <td>1</td>\n",
       "      <td>25</td>\n",
       "      <td>25</td>\n",
       "    </tr>\n",
       "  </tbody>\n",
       "</table>\n",
       "</div>"
      ],
      "text/plain": [
       "                     Date Customer ID  Gender  Age Product Category  Quantity  \\\n",
       "Transaction ID                                                                  \n",
       "1              2023-01-01     CUST522    Male   46           Beauty         3   \n",
       "2              2023-01-01     CUST180    Male   41         Clothing         3   \n",
       "3              2023-01-01     CUST559  Female   40         Clothing         4   \n",
       "4              2023-01-02     CUST303    Male   19      Electronics         3   \n",
       "5              2023-01-02     CUST979  Female   19           Beauty         1   \n",
       "\n",
       "                Price per Unit  Total Amount  \n",
       "Transaction ID                                \n",
       "1                          500          1500  \n",
       "2                          300           900  \n",
       "3                          300          1200  \n",
       "4                           30            90  \n",
       "5                           25            25  "
      ]
     },
     "execution_count": 100,
     "metadata": {},
     "output_type": "execute_result"
    }
   ],
   "source": [
    "Data.head()"
   ]
  },
  {
   "cell_type": "markdown",
   "id": "10a8bf09-586d-45ca-8839-fc706bc204ae",
   "metadata": {},
   "source": [
    "## Analysing the customer count based on Product Category and Gender"
   ]
  },
  {
   "cell_type": "code",
   "execution_count": 101,
   "id": "f59b6cc1-8d2b-4f6a-a0df-f86ccf25c275",
   "metadata": {},
   "outputs": [
    {
     "data": {
      "text/html": [
       "<div>\n",
       "<style scoped>\n",
       "    .dataframe tbody tr th:only-of-type {\n",
       "        vertical-align: middle;\n",
       "    }\n",
       "\n",
       "    .dataframe tbody tr th {\n",
       "        vertical-align: top;\n",
       "    }\n",
       "\n",
       "    .dataframe thead th {\n",
       "        text-align: right;\n",
       "    }\n",
       "</style>\n",
       "<table border=\"1\" class=\"dataframe\">\n",
       "  <thead>\n",
       "    <tr style=\"text-align: right;\">\n",
       "      <th></th>\n",
       "      <th></th>\n",
       "      <th>count</th>\n",
       "    </tr>\n",
       "    <tr>\n",
       "      <th>Product Category</th>\n",
       "      <th>Gender</th>\n",
       "      <th></th>\n",
       "    </tr>\n",
       "  </thead>\n",
       "  <tbody>\n",
       "    <tr>\n",
       "      <th rowspan=\"2\" valign=\"top\">Beauty</th>\n",
       "      <th>Female</th>\n",
       "      <td>166</td>\n",
       "    </tr>\n",
       "    <tr>\n",
       "      <th>Male</th>\n",
       "      <td>141</td>\n",
       "    </tr>\n",
       "    <tr>\n",
       "      <th rowspan=\"2\" valign=\"top\">Clothing</th>\n",
       "      <th>Male</th>\n",
       "      <td>177</td>\n",
       "    </tr>\n",
       "    <tr>\n",
       "      <th>Female</th>\n",
       "      <td>174</td>\n",
       "    </tr>\n",
       "    <tr>\n",
       "      <th rowspan=\"2\" valign=\"top\">Electronics</th>\n",
       "      <th>Male</th>\n",
       "      <td>172</td>\n",
       "    </tr>\n",
       "    <tr>\n",
       "      <th>Female</th>\n",
       "      <td>170</td>\n",
       "    </tr>\n",
       "  </tbody>\n",
       "</table>\n",
       "</div>"
      ],
      "text/plain": [
       "                         count\n",
       "Product Category Gender       \n",
       "Beauty           Female    166\n",
       "                 Male      141\n",
       "Clothing         Male      177\n",
       "                 Female    174\n",
       "Electronics      Male      172\n",
       "                 Female    170"
      ]
     },
     "execution_count": 101,
     "metadata": {},
     "output_type": "execute_result"
    }
   ],
   "source": [
    "df = pd.DataFrame(Data.groupby('Product Category')['Gender'].value_counts())\n",
    "df"
   ]
  },
  {
   "cell_type": "markdown",
   "id": "46e40011-629a-45cd-9a3c-b321ce805fa0",
   "metadata": {},
   "source": [
    "## Changing the datatype to Category"
   ]
  },
  {
   "cell_type": "code",
   "execution_count": 102,
   "id": "17f30daa-dbb0-4d2e-a462-177d37ee7f08",
   "metadata": {},
   "outputs": [],
   "source": [
    "Data['Gender'] = Data['Gender'].astype('category')\n",
    "Data['Product Category'] = Data['Product Category'].astype('category')\n"
   ]
  },
  {
   "cell_type": "code",
   "execution_count": 103,
   "id": "6b76f90f-1cab-4922-ab5d-c2182b06baac",
   "metadata": {},
   "outputs": [
    {
     "name": "stdout",
     "output_type": "stream",
     "text": [
      "<class 'pandas.core.frame.DataFrame'>\n",
      "Index: 1000 entries, 1 to 1000\n",
      "Data columns (total 8 columns):\n",
      " #   Column            Non-Null Count  Dtype         \n",
      "---  ------            --------------  -----         \n",
      " 0   Date              1000 non-null   datetime64[ns]\n",
      " 1   Customer ID       1000 non-null   object        \n",
      " 2   Gender            1000 non-null   category      \n",
      " 3   Age               1000 non-null   int64         \n",
      " 4   Product Category  1000 non-null   category      \n",
      " 5   Quantity          1000 non-null   int64         \n",
      " 6   Price per Unit    1000 non-null   int64         \n",
      " 7   Total Amount      1000 non-null   int64         \n",
      "dtypes: category(2), datetime64[ns](1), int64(4), object(1)\n",
      "memory usage: 56.9+ KB\n"
     ]
    }
   ],
   "source": [
    "Data.info()"
   ]
  },
  {
   "cell_type": "markdown",
   "id": "844eb99c-dc0e-4444-9d6a-f872bdcc54bf",
   "metadata": {},
   "source": [
    "## Removing outliers based on IQR"
   ]
  },
  {
   "cell_type": "code",
   "execution_count": 104,
   "id": "72bd3808-b488-4c23-ba54-1cc6c82df441",
   "metadata": {},
   "outputs": [
    {
     "data": {
      "text/html": [
       "<div>\n",
       "<style scoped>\n",
       "    .dataframe tbody tr th:only-of-type {\n",
       "        vertical-align: middle;\n",
       "    }\n",
       "\n",
       "    .dataframe tbody tr th {\n",
       "        vertical-align: top;\n",
       "    }\n",
       "\n",
       "    .dataframe thead th {\n",
       "        text-align: right;\n",
       "    }\n",
       "</style>\n",
       "<table border=\"1\" class=\"dataframe\">\n",
       "  <thead>\n",
       "    <tr style=\"text-align: right;\">\n",
       "      <th></th>\n",
       "      <th>Date</th>\n",
       "      <th>Customer ID</th>\n",
       "      <th>Gender</th>\n",
       "      <th>Age</th>\n",
       "      <th>Product Category</th>\n",
       "      <th>Quantity</th>\n",
       "      <th>Price per Unit</th>\n",
       "      <th>Total Amount</th>\n",
       "    </tr>\n",
       "    <tr>\n",
       "      <th>Transaction ID</th>\n",
       "      <th></th>\n",
       "      <th></th>\n",
       "      <th></th>\n",
       "      <th></th>\n",
       "      <th></th>\n",
       "      <th></th>\n",
       "      <th></th>\n",
       "      <th></th>\n",
       "    </tr>\n",
       "  </thead>\n",
       "  <tbody>\n",
       "    <tr>\n",
       "      <th>1</th>\n",
       "      <td>2023-01-01</td>\n",
       "      <td>CUST522</td>\n",
       "      <td>Male</td>\n",
       "      <td>46</td>\n",
       "      <td>Beauty</td>\n",
       "      <td>3</td>\n",
       "      <td>500</td>\n",
       "      <td>1500</td>\n",
       "    </tr>\n",
       "    <tr>\n",
       "      <th>2</th>\n",
       "      <td>2023-01-01</td>\n",
       "      <td>CUST180</td>\n",
       "      <td>Male</td>\n",
       "      <td>41</td>\n",
       "      <td>Clothing</td>\n",
       "      <td>3</td>\n",
       "      <td>300</td>\n",
       "      <td>900</td>\n",
       "    </tr>\n",
       "    <tr>\n",
       "      <th>3</th>\n",
       "      <td>2023-01-01</td>\n",
       "      <td>CUST559</td>\n",
       "      <td>Female</td>\n",
       "      <td>40</td>\n",
       "      <td>Clothing</td>\n",
       "      <td>4</td>\n",
       "      <td>300</td>\n",
       "      <td>1200</td>\n",
       "    </tr>\n",
       "    <tr>\n",
       "      <th>4</th>\n",
       "      <td>2023-01-02</td>\n",
       "      <td>CUST303</td>\n",
       "      <td>Male</td>\n",
       "      <td>19</td>\n",
       "      <td>Electronics</td>\n",
       "      <td>3</td>\n",
       "      <td>30</td>\n",
       "      <td>90</td>\n",
       "    </tr>\n",
       "    <tr>\n",
       "      <th>5</th>\n",
       "      <td>2023-01-02</td>\n",
       "      <td>CUST979</td>\n",
       "      <td>Female</td>\n",
       "      <td>19</td>\n",
       "      <td>Beauty</td>\n",
       "      <td>1</td>\n",
       "      <td>25</td>\n",
       "      <td>25</td>\n",
       "    </tr>\n",
       "    <tr>\n",
       "      <th>...</th>\n",
       "      <td>...</td>\n",
       "      <td>...</td>\n",
       "      <td>...</td>\n",
       "      <td>...</td>\n",
       "      <td>...</td>\n",
       "      <td>...</td>\n",
       "      <td>...</td>\n",
       "      <td>...</td>\n",
       "    </tr>\n",
       "    <tr>\n",
       "      <th>996</th>\n",
       "      <td>2023-12-29</td>\n",
       "      <td>CUST233</td>\n",
       "      <td>Female</td>\n",
       "      <td>51</td>\n",
       "      <td>Beauty</td>\n",
       "      <td>2</td>\n",
       "      <td>300</td>\n",
       "      <td>600</td>\n",
       "    </tr>\n",
       "    <tr>\n",
       "      <th>997</th>\n",
       "      <td>2023-12-29</td>\n",
       "      <td>CUST805</td>\n",
       "      <td>Female</td>\n",
       "      <td>30</td>\n",
       "      <td>Beauty</td>\n",
       "      <td>3</td>\n",
       "      <td>500</td>\n",
       "      <td>1500</td>\n",
       "    </tr>\n",
       "    <tr>\n",
       "      <th>998</th>\n",
       "      <td>2023-12-31</td>\n",
       "      <td>CUST857</td>\n",
       "      <td>Male</td>\n",
       "      <td>60</td>\n",
       "      <td>Electronics</td>\n",
       "      <td>2</td>\n",
       "      <td>25</td>\n",
       "      <td>50</td>\n",
       "    </tr>\n",
       "    <tr>\n",
       "      <th>999</th>\n",
       "      <td>2024-01-01</td>\n",
       "      <td>CUST211</td>\n",
       "      <td>Male</td>\n",
       "      <td>42</td>\n",
       "      <td>Beauty</td>\n",
       "      <td>3</td>\n",
       "      <td>500</td>\n",
       "      <td>1500</td>\n",
       "    </tr>\n",
       "    <tr>\n",
       "      <th>1000</th>\n",
       "      <td>2024-01-01</td>\n",
       "      <td>CUST650</td>\n",
       "      <td>Male</td>\n",
       "      <td>55</td>\n",
       "      <td>Electronics</td>\n",
       "      <td>1</td>\n",
       "      <td>30</td>\n",
       "      <td>30</td>\n",
       "    </tr>\n",
       "  </tbody>\n",
       "</table>\n",
       "<p>1000 rows × 8 columns</p>\n",
       "</div>"
      ],
      "text/plain": [
       "                     Date Customer ID  Gender  Age Product Category  Quantity  \\\n",
       "Transaction ID                                                                  \n",
       "1              2023-01-01     CUST522    Male   46           Beauty         3   \n",
       "2              2023-01-01     CUST180    Male   41         Clothing         3   \n",
       "3              2023-01-01     CUST559  Female   40         Clothing         4   \n",
       "4              2023-01-02     CUST303    Male   19      Electronics         3   \n",
       "5              2023-01-02     CUST979  Female   19           Beauty         1   \n",
       "...                   ...         ...     ...  ...              ...       ...   \n",
       "996            2023-12-29     CUST233  Female   51           Beauty         2   \n",
       "997            2023-12-29     CUST805  Female   30           Beauty         3   \n",
       "998            2023-12-31     CUST857    Male   60      Electronics         2   \n",
       "999            2024-01-01     CUST211    Male   42           Beauty         3   \n",
       "1000           2024-01-01     CUST650    Male   55      Electronics         1   \n",
       "\n",
       "                Price per Unit  Total Amount  \n",
       "Transaction ID                                \n",
       "1                          500          1500  \n",
       "2                          300           900  \n",
       "3                          300          1200  \n",
       "4                           30            90  \n",
       "5                           25            25  \n",
       "...                        ...           ...  \n",
       "996                        300           600  \n",
       "997                        500          1500  \n",
       "998                         25            50  \n",
       "999                        500          1500  \n",
       "1000                        30            30  \n",
       "\n",
       "[1000 rows x 8 columns]"
      ]
     },
     "execution_count": 104,
     "metadata": {},
     "output_type": "execute_result"
    }
   ],
   "source": [
    "def remove_outliers(Data, column):\n",
    "    Q1 = Data[column].quantile(0.25)\n",
    "    Q3 = Data[column].quantile(0.75)\n",
    "    IQR = Q3 - Q1\n",
    "    lower_bound = Q1 - 1.5 * IQR\n",
    "    upper_bound = Q3 + 1.5 * IQR\n",
    "    return Data[(Data[column] >= lower_bound) & (Data[column] <= upper_bound)]\n",
    "\n",
    "Data = remove_outliers(Data, 'Quantity')\n",
    "Data"
   ]
  },
  {
   "cell_type": "code",
   "execution_count": 105,
   "id": "170def0e-7de1-4a9b-a93c-64438e0aded8",
   "metadata": {},
   "outputs": [
    {
     "data": {
      "text/html": [
       "<div>\n",
       "<style scoped>\n",
       "    .dataframe tbody tr th:only-of-type {\n",
       "        vertical-align: middle;\n",
       "    }\n",
       "\n",
       "    .dataframe tbody tr th {\n",
       "        vertical-align: top;\n",
       "    }\n",
       "\n",
       "    .dataframe thead th {\n",
       "        text-align: right;\n",
       "    }\n",
       "</style>\n",
       "<table border=\"1\" class=\"dataframe\">\n",
       "  <thead>\n",
       "    <tr style=\"text-align: right;\">\n",
       "      <th></th>\n",
       "      <th>Date</th>\n",
       "      <th>Customer ID</th>\n",
       "      <th>Gender</th>\n",
       "      <th>Age</th>\n",
       "      <th>Product Category</th>\n",
       "      <th>Quantity</th>\n",
       "      <th>Price per Unit</th>\n",
       "      <th>Total Amount</th>\n",
       "    </tr>\n",
       "    <tr>\n",
       "      <th>Transaction ID</th>\n",
       "      <th></th>\n",
       "      <th></th>\n",
       "      <th></th>\n",
       "      <th></th>\n",
       "      <th></th>\n",
       "      <th></th>\n",
       "      <th></th>\n",
       "      <th></th>\n",
       "    </tr>\n",
       "  </thead>\n",
       "  <tbody>\n",
       "    <tr>\n",
       "      <th>1</th>\n",
       "      <td>2023-01-01</td>\n",
       "      <td>CUST522</td>\n",
       "      <td>Male</td>\n",
       "      <td>46</td>\n",
       "      <td>Beauty</td>\n",
       "      <td>3</td>\n",
       "      <td>500</td>\n",
       "      <td>1500</td>\n",
       "    </tr>\n",
       "    <tr>\n",
       "      <th>2</th>\n",
       "      <td>2023-01-01</td>\n",
       "      <td>CUST180</td>\n",
       "      <td>Male</td>\n",
       "      <td>41</td>\n",
       "      <td>Clothing</td>\n",
       "      <td>3</td>\n",
       "      <td>300</td>\n",
       "      <td>900</td>\n",
       "    </tr>\n",
       "    <tr>\n",
       "      <th>3</th>\n",
       "      <td>2023-01-01</td>\n",
       "      <td>CUST559</td>\n",
       "      <td>Female</td>\n",
       "      <td>40</td>\n",
       "      <td>Clothing</td>\n",
       "      <td>4</td>\n",
       "      <td>300</td>\n",
       "      <td>1200</td>\n",
       "    </tr>\n",
       "    <tr>\n",
       "      <th>4</th>\n",
       "      <td>2023-01-02</td>\n",
       "      <td>CUST303</td>\n",
       "      <td>Male</td>\n",
       "      <td>19</td>\n",
       "      <td>Electronics</td>\n",
       "      <td>3</td>\n",
       "      <td>30</td>\n",
       "      <td>90</td>\n",
       "    </tr>\n",
       "    <tr>\n",
       "      <th>5</th>\n",
       "      <td>2023-01-02</td>\n",
       "      <td>CUST979</td>\n",
       "      <td>Female</td>\n",
       "      <td>19</td>\n",
       "      <td>Beauty</td>\n",
       "      <td>1</td>\n",
       "      <td>25</td>\n",
       "      <td>25</td>\n",
       "    </tr>\n",
       "    <tr>\n",
       "      <th>...</th>\n",
       "      <td>...</td>\n",
       "      <td>...</td>\n",
       "      <td>...</td>\n",
       "      <td>...</td>\n",
       "      <td>...</td>\n",
       "      <td>...</td>\n",
       "      <td>...</td>\n",
       "      <td>...</td>\n",
       "    </tr>\n",
       "    <tr>\n",
       "      <th>996</th>\n",
       "      <td>2023-12-29</td>\n",
       "      <td>CUST233</td>\n",
       "      <td>Female</td>\n",
       "      <td>51</td>\n",
       "      <td>Beauty</td>\n",
       "      <td>2</td>\n",
       "      <td>300</td>\n",
       "      <td>600</td>\n",
       "    </tr>\n",
       "    <tr>\n",
       "      <th>997</th>\n",
       "      <td>2023-12-29</td>\n",
       "      <td>CUST805</td>\n",
       "      <td>Female</td>\n",
       "      <td>30</td>\n",
       "      <td>Beauty</td>\n",
       "      <td>3</td>\n",
       "      <td>500</td>\n",
       "      <td>1500</td>\n",
       "    </tr>\n",
       "    <tr>\n",
       "      <th>998</th>\n",
       "      <td>2023-12-31</td>\n",
       "      <td>CUST857</td>\n",
       "      <td>Male</td>\n",
       "      <td>60</td>\n",
       "      <td>Electronics</td>\n",
       "      <td>2</td>\n",
       "      <td>25</td>\n",
       "      <td>50</td>\n",
       "    </tr>\n",
       "    <tr>\n",
       "      <th>999</th>\n",
       "      <td>2024-01-01</td>\n",
       "      <td>CUST211</td>\n",
       "      <td>Male</td>\n",
       "      <td>42</td>\n",
       "      <td>Beauty</td>\n",
       "      <td>3</td>\n",
       "      <td>500</td>\n",
       "      <td>1500</td>\n",
       "    </tr>\n",
       "    <tr>\n",
       "      <th>1000</th>\n",
       "      <td>2024-01-01</td>\n",
       "      <td>CUST650</td>\n",
       "      <td>Male</td>\n",
       "      <td>55</td>\n",
       "      <td>Electronics</td>\n",
       "      <td>1</td>\n",
       "      <td>30</td>\n",
       "      <td>30</td>\n",
       "    </tr>\n",
       "  </tbody>\n",
       "</table>\n",
       "<p>1000 rows × 8 columns</p>\n",
       "</div>"
      ],
      "text/plain": [
       "                     Date Customer ID  Gender  Age Product Category  Quantity  \\\n",
       "Transaction ID                                                                  \n",
       "1              2023-01-01     CUST522    Male   46           Beauty         3   \n",
       "2              2023-01-01     CUST180    Male   41         Clothing         3   \n",
       "3              2023-01-01     CUST559  Female   40         Clothing         4   \n",
       "4              2023-01-02     CUST303    Male   19      Electronics         3   \n",
       "5              2023-01-02     CUST979  Female   19           Beauty         1   \n",
       "...                   ...         ...     ...  ...              ...       ...   \n",
       "996            2023-12-29     CUST233  Female   51           Beauty         2   \n",
       "997            2023-12-29     CUST805  Female   30           Beauty         3   \n",
       "998            2023-12-31     CUST857    Male   60      Electronics         2   \n",
       "999            2024-01-01     CUST211    Male   42           Beauty         3   \n",
       "1000           2024-01-01     CUST650    Male   55      Electronics         1   \n",
       "\n",
       "                Price per Unit  Total Amount  \n",
       "Transaction ID                                \n",
       "1                          500          1500  \n",
       "2                          300           900  \n",
       "3                          300          1200  \n",
       "4                           30            90  \n",
       "5                           25            25  \n",
       "...                        ...           ...  \n",
       "996                        300           600  \n",
       "997                        500          1500  \n",
       "998                         25            50  \n",
       "999                        500          1500  \n",
       "1000                        30            30  \n",
       "\n",
       "[1000 rows x 8 columns]"
      ]
     },
     "execution_count": 105,
     "metadata": {},
     "output_type": "execute_result"
    }
   ],
   "source": [
    "Data = remove_outliers(Data, 'Price per Unit')\n",
    "Data"
   ]
  },
  {
   "cell_type": "markdown",
   "id": "1e05655f-b3ba-4dbf-a6df-25aeaa29c34e",
   "metadata": {},
   "source": [
    "##  Plotting Sales Trends Over Time"
   ]
  },
  {
   "cell_type": "code",
   "execution_count": 106,
   "id": "6e9606cf-5322-4233-b5eb-27976417d6d8",
   "metadata": {},
   "outputs": [],
   "source": [
    "Data.set_index('Date', inplace = True)\n",
    "\n",
    "monthly_sales = Data['Total Amount'].resample('ME').sum()"
   ]
  },
  {
   "cell_type": "code",
   "execution_count": 107,
   "id": "edb2662c-b915-4ef3-a673-22d2833a4d05",
   "metadata": {},
   "outputs": [
    {
     "data": {
      "image/png": "[encoded data removed]",
      "text/plain": [
       "<Figure size 1200x600 with 1 Axes>"
      ]
     },
     "metadata": {},
     "output_type": "display_data"
    }
   ],
   "source": [
    "plt.figure(figsize=(12, 6))\n",
    "plt.plot(monthly_sales, marker='o')\n",
    "plt.title('Monthly Sales Trends')\n",
    "plt.xlabel('Month')\n",
    "plt.ylabel('Total Sales Amount')\n",
    "plt.show()"
   ]
  },
  {
   "cell_type": "markdown",
   "id": "0eb95241-dfcb-43e9-9f5e-4e0a62046e65",
   "metadata": {},
   "source": [
    "## Sales by Product Category"
   ]
  },
  {
   "cell_type": "code",
   "execution_count": 108,
   "id": "7e0fff8e-d9fd-4cc8-91e4-99d2ab11371b",
   "metadata": {},
   "outputs": [],
   "source": [
    "sales_by_category = Data.groupby('Product Category',observed = False)['Total Amount'].sum().sort_values(ascending=False)\n"
   ]
  },
  {
   "cell_type": "code",
   "execution_count": 109,
   "id": "ed1861a3-8b73-4c41-9bdb-12f08d214fd0",
   "metadata": {},
   "outputs": [
    {
     "data": {
      "image/png": "[encoded data removed]",
      "text/plain": [
       "<Figure size 1000x600 with 1 Axes>"
      ]
     },
     "metadata": {},
     "output_type": "display_data"
    }
   ],
   "source": [
    "plt.figure(figsize=(10, 6))\n",
    "sales_by_category.plot(kind='bar', color='skyblue')\n",
    "plt.title('Sales by Product Category')\n",
    "plt.xlabel('Product Category')\n",
    "plt.ylabel('Total Sales Amount')\n",
    "plt.xticks(rotation=45)\n",
    "plt.show()"
   ]
  },
  {
   "cell_type": "markdown",
   "id": "92dfc6ab-2932-4048-87ff-54ac2a153979",
   "metadata": {},
   "source": [
    "## Sales by Gender"
   ]
  },
  {
   "cell_type": "code",
   "execution_count": 113,
   "id": "2d1a4451-9435-49ae-bd59-62a522621288",
   "metadata": {},
   "outputs": [],
   "source": [
    "sales_by_gender = Data.groupby('Gender', observed = False)['Total Amount'].sum()\n"
   ]
  },
  {
   "cell_type": "code",
   "execution_count": 114,
   "id": "929c0d61-d929-40b9-aa49-7cb0afb58608",
   "metadata": {},
   "outputs": [
    {
     "data": {
      "image/png": "[encoded data removed]",
      "text/plain": [
       "<Figure size 800x500 with 1 Axes>"
      ]
     },
     "metadata": {},
     "output_type": "display_data"
    }
   ],
   "source": [
    "plt.figure(figsize=(8, 5))\n",
    "sales_by_gender.plot(kind='bar', color=['lightcoral', 'lightskyblue'])\n",
    "plt.title('Sales by Gender')\n",
    "plt.xlabel('Gender')\n",
    "plt.ylabel('Total Sales Amount')\n",
    "plt.xticks(rotation=0)\n",
    "plt.show()"
   ]
  },
  {
   "cell_type": "markdown",
   "id": "3fe629ec-e52d-4560-b867-e88159905350",
   "metadata": {},
   "source": [
    "## Sales by Age Group"
   ]
  },
  {
   "cell_type": "code",
   "execution_count": 115,
   "id": "a8a948ef-3a24-4b86-a547-4fdeef61078c",
   "metadata": {},
   "outputs": [],
   "source": [
    "Data['Age Group'] = pd.cut(Data['Age'], bins=[0, 18, 35, 50, 100], labels=['0-18', '19-35', '36-50', '51+'],)\n",
    "sales_by_age_group = Data.groupby('Age Group', observed = False)['Total Amount'].sum()\n"
   ]
  },
  {
   "cell_type": "code",
   "execution_count": 116,
   "id": "0d8c1c72-1a04-490e-8ccf-55aa7d240bca",
   "metadata": {},
   "outputs": [
    {
     "data": {
      "image/png": "[encoded data removed]",
      "text/plain": [
       "<Figure size 1000x600 with 1 Axes>"
      ]
     },
     "metadata": {},
     "output_type": "display_data"
    }
   ],
   "source": [
    "plt.figure(figsize=(10, 6))\n",
    "sales_by_age_group.plot(kind='bar', color='orchid')\n",
    "plt.title('Sales by Age Group')\n",
    "plt.xlabel('Age Group')\n",
    "plt.ylabel('Total Sales Amount')\n",
    "plt.xticks(rotation=0)\n",
    "plt.show()"
   ]
  },
  {
   "cell_type": "code",
   "execution_count": 117,
   "id": "e9007671-cee4-49d3-92fb-0baa03a68582",
   "metadata": {},
   "outputs": [
    {
     "name": "stdout",
     "output_type": "stream",
     "text": [
      "Average Transaction Value: $456.00\n"
     ]
    }
   ],
   "source": [
    "avg_transaction_value = Data['Total Amount'].mean()\n",
    "print(f\"Average Transaction Value: ${avg_transaction_value:.2f}\")\n"
   ]
  },
  {
   "cell_type": "markdown",
   "id": "aa327dea-8f57-4edd-a0b2-9f603c77a90a",
   "metadata": {},
   "source": [
    "## Top 10 Customers by Total Sales Amount"
   ]
  },
  {
   "cell_type": "code",
   "execution_count": 118,
   "id": "64c519ae-4284-4597-94b1-b1bd567deb3e",
   "metadata": {},
   "outputs": [],
   "source": [
    "total_transactions_by_customer = Data.groupby('Customer ID')['Total Amount'].sum()\n"
   ]
  },
  {
   "cell_type": "code",
   "execution_count": 119,
   "id": "5022651b-f22e-4aa1-92b9-4d4a87615dbc",
   "metadata": {},
   "outputs": [
    {
     "data": {
      "image/png": "[encoded data removed]",
      "text/plain": [
       "<Figure size 1200x600 with 1 Axes>"
      ]
     },
     "metadata": {},
     "output_type": "display_data"
    }
   ],
   "source": [
    "top_customers = total_transactions_by_customer.sort_values(ascending=False).head(10)\n",
    "plt.figure(figsize=(12, 6))\n",
    "top_customers.plot(kind='bar', color='seagreen')\n",
    "plt.title('Top 10 Customers by Total Sales Amount')\n",
    "plt.xlabel('Customer ID')\n",
    "plt.ylabel('Total Sales Amount')\n",
    "plt.xticks(rotation=45)\n",
    "plt.show()"
   ]
  },
  {
   "cell_type": "markdown",
   "id": "e5063278-8cf9-4dd6-b34b-d196910d73cc",
   "metadata": {},
   "source": [
    "## Correlation Heatmap"
   ]
  },
  {
   "cell_type": "code",
   "execution_count": 120,
   "id": "27f31b18-a81d-46d2-a440-e5378ea58e4e",
   "metadata": {},
   "outputs": [
    {
     "data": {
      "image/png": "[encoded data removed]",
      "text/plain": [
       "<Figure size 800x600 with 2 Axes>"
      ]
     },
     "metadata": {},
     "output_type": "display_data"
    }
   ],
   "source": [
    "correlation_matrix = Data[['Quantity', 'Price per Unit', 'Total Amount', 'Age']].corr()\n",
    "\n",
    "plt.figure(figsize=(8, 6))\n",
    "sns.heatmap(correlation_matrix, annot=True, cmap='coolwarm', linewidths=0.5)\n",
    "plt.title('Correlation Heatmap')\n",
    "plt.show()\n"
   ]
  },
  {
   "cell_type": "markdown",
   "id": "e6bb4b3a-e7c2-4606-bf2e-859adba75ca8",
   "metadata": {},
   "source": [
    "## Distribution of Customer Ages"
   ]
  },
  {
   "cell_type": "code",
   "execution_count": 121,
   "id": "67fb0019-1542-4980-a690-40f0eff7082e",
   "metadata": {},
   "outputs": [
    {
     "data": {
      "image/png": "[encoded data removed]",
      "text/plain": [
       "<Figure size 1000x600 with 1 Axes>"
      ]
     },
     "metadata": {},
     "output_type": "display_data"
    }
   ],
   "source": [
    "plt.figure(figsize=(10, 6))\n",
    "sns.histplot(Data['Age'], bins=20, kde=True, color='purple')\n",
    "plt.title('Distribution of Customer Ages')\n",
    "plt.xlabel('Age')\n",
    "plt.ylabel('Frequency')\n",
    "plt.show()"
   ]
  },
  {
   "cell_type": "code",
   "execution_count": 125,
   "id": "9a643985-72c2-436c-b28b-20d2fc779f36",
   "metadata": {},
   "outputs": [
    {
     "data": {
      "text/html": [
       "<div>\n",
       "<style scoped>\n",
       "    .dataframe tbody tr th:only-of-type {\n",
       "        vertical-align: middle;\n",
       "    }\n",
       "\n",
       "    .dataframe tbody tr th {\n",
       "        vertical-align: top;\n",
       "    }\n",
       "\n",
       "    .dataframe thead th {\n",
       "        text-align: right;\n",
       "    }\n",
       "</style>\n",
       "<table border=\"1\" class=\"dataframe\">\n",
       "  <thead>\n",
       "    <tr style=\"text-align: right;\">\n",
       "      <th></th>\n",
       "      <th>Customer ID</th>\n",
       "      <th>Gender</th>\n",
       "      <th>Age</th>\n",
       "      <th>Product Category</th>\n",
       "      <th>Quantity</th>\n",
       "      <th>Price per Unit</th>\n",
       "      <th>Total Amount</th>\n",
       "      <th>Age Group</th>\n",
       "    </tr>\n",
       "    <tr>\n",
       "      <th>Date</th>\n",
       "      <th></th>\n",
       "      <th></th>\n",
       "      <th></th>\n",
       "      <th></th>\n",
       "      <th></th>\n",
       "      <th></th>\n",
       "      <th></th>\n",
       "      <th></th>\n",
       "    </tr>\n",
       "  </thead>\n",
       "  <tbody>\n",
       "    <tr>\n",
       "      <th>2023-01-01</th>\n",
       "      <td>CUST522</td>\n",
       "      <td>Male</td>\n",
       "      <td>46</td>\n",
       "      <td>Beauty</td>\n",
       "      <td>3</td>\n",
       "      <td>500</td>\n",
       "      <td>1500</td>\n",
       "      <td>36-50</td>\n",
       "    </tr>\n",
       "    <tr>\n",
       "      <th>2023-01-01</th>\n",
       "      <td>CUST180</td>\n",
       "      <td>Male</td>\n",
       "      <td>41</td>\n",
       "      <td>Clothing</td>\n",
       "      <td>3</td>\n",
       "      <td>300</td>\n",
       "      <td>900</td>\n",
       "      <td>36-50</td>\n",
       "    </tr>\n",
       "    <tr>\n",
       "      <th>2023-01-01</th>\n",
       "      <td>CUST559</td>\n",
       "      <td>Female</td>\n",
       "      <td>40</td>\n",
       "      <td>Clothing</td>\n",
       "      <td>4</td>\n",
       "      <td>300</td>\n",
       "      <td>1200</td>\n",
       "      <td>36-50</td>\n",
       "    </tr>\n",
       "    <tr>\n",
       "      <th>2023-01-02</th>\n",
       "      <td>CUST303</td>\n",
       "      <td>Male</td>\n",
       "      <td>19</td>\n",
       "      <td>Electronics</td>\n",
       "      <td>3</td>\n",
       "      <td>30</td>\n",
       "      <td>90</td>\n",
       "      <td>19-35</td>\n",
       "    </tr>\n",
       "    <tr>\n",
       "      <th>2023-01-02</th>\n",
       "      <td>CUST979</td>\n",
       "      <td>Female</td>\n",
       "      <td>19</td>\n",
       "      <td>Beauty</td>\n",
       "      <td>1</td>\n",
       "      <td>25</td>\n",
       "      <td>25</td>\n",
       "      <td>19-35</td>\n",
       "    </tr>\n",
       "  </tbody>\n",
       "</table>\n",
       "</div>"
      ],
      "text/plain": [
       "           Customer ID  Gender  Age Product Category  Quantity  \\\n",
       "Date                                                             \n",
       "2023-01-01     CUST522    Male   46           Beauty         3   \n",
       "2023-01-01     CUST180    Male   41         Clothing         3   \n",
       "2023-01-01     CUST559  Female   40         Clothing         4   \n",
       "2023-01-02     CUST303    Male   19      Electronics         3   \n",
       "2023-01-02     CUST979  Female   19           Beauty         1   \n",
       "\n",
       "            Price per Unit  Total Amount Age Group  \n",
       "Date                                                \n",
       "2023-01-01             500          1500     36-50  \n",
       "2023-01-01             300           900     36-50  \n",
       "2023-01-01             300          1200     36-50  \n",
       "2023-01-02              30            90     19-35  \n",
       "2023-01-02              25            25     19-35  "
      ]
     },
     "execution_count": 125,
     "metadata": {},
     "output_type": "execute_result"
    }
   ],
   "source": [
    "Data.head()"
   ]
  },
  {
   "cell_type": "markdown",
   "id": "1adbc1ac-8086-424f-8612-57e946993e1e",
   "metadata": {},
   "source": [
    "## Product Category Analysis (Pie Chart)"
   ]
  },
  {
   "cell_type": "code",
   "execution_count": 124,
   "id": "62707012-9c9a-477a-99b8-76040c0d0f3d",
   "metadata": {},
   "outputs": [
    {
     "data": {
      "image/png": "[encoded data removed]",
      "text/plain": [
       "<Figure size 800x800 with 1 Axes>"
      ]
     },
     "metadata": {},
     "output_type": "display_data"
    }
   ],
   "source": [
    "sales_by_category = Data.groupby('Product Category', observed = False)['Total Amount'].sum().sort_values(ascending=False)\n",
    "\n",
    "plt.figure(figsize=(8, 8))\n",
    "sales_by_category.plot(kind='pie', autopct='%1.1f%%', startangle=140, colors=sns.color_palette('pastel'))\n",
    "plt.title('Sales Distribution by Product Category')\n",
    "plt.ylabel('')\n",
    "plt.show()\n"
   ]
  },
  {
   "cell_type": "code",
   "execution_count": null,
   "id": "cb08a2de-9f43-45ee-8480-a97b49fdfaa7",
   "metadata": {},
   "outputs": [],
   "source": []
  }
 ],
 "metadata": {
  "kernelspec": {
   "display_name": "Python 3 (ipykernel)",
   "language": "python",
   "name": "python3"
  },
  "language_info": {
   "codemirror_mode": {
    "name": "ipython",
    "version": 3
   },
   "file_extension": ".py",
   "mimetype": "text/x-python",
   "name": "python",
   "nbconvert_exporter": "python",
   "pygments_lexer": "ipython3",
   "version": "3.12.5"
  }
 },
 "nbformat": 4,
 "nbformat_minor": 5
}
